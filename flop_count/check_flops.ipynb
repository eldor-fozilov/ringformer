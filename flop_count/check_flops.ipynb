{
 "cells": [
  {
   "cell_type": "code",
   "execution_count": 1,
   "metadata": {},
   "outputs": [],
   "source": [
    "import fvcore\n",
    "import torch\n",
    "import fvcore.nn\n",
    "import random"
   ]
  },
  {
   "cell_type": "code",
   "execution_count": 2,
   "metadata": {},
   "outputs": [],
   "source": [
    "from flop_count.flop_handlers import elementwise_flop_jit, transpose_flop_jit, softmax_flop_jit, gelu_flop_jit"
   ]
  },
  {
   "cell_type": "code",
   "execution_count": 13,
   "metadata": {},
   "outputs": [],
   "source": [
    "# custom handlers\n",
    "flop_handlers = {\"aten::add\": elementwise_flop_jit,\n",
    "            \"aten::sub\": elementwise_flop_jit,\n",
    "            \"aten::div\": elementwise_flop_jit,\n",
    "            \"aten::numpy_T\": transpose_flop_jit,\n",
    "            \"aten::softmax\": softmax_flop_jit,\n",
    "            \"aten::gelu\": gelu_flop_jit}\n",
    "\n",
    "\n",
    "class FlopCountAnalysis(fvcore.nn.FlopCountAnalysis):\n",
    "\n",
    "    def __init__(self, model, inputs):\n",
    "        super().__init__(model, inputs)\n",
    "        self.set_op_handle(**flop_handlers)\n"
   ]
  },
  {
   "cell_type": "code",
   "execution_count": null,
   "metadata": {},
   "outputs": [],
   "source": [
    "from models.vringformer import VRingFormer, VRingFormer_CONFIGS\n",
    "\n",
    "VRingFormer_CONFIGS['VRingFormer-B_16']"
   ]
  },
  {
   "cell_type": "code",
   "execution_count": 16,
   "metadata": {},
   "outputs": [],
   "source": [
    "model = VRingFormer(VRingFormer_CONFIGS['VRingFormer-B_16'])"
   ]
  },
  {
   "cell_type": "code",
   "execution_count": null,
   "metadata": {},
   "outputs": [],
   "source": [
    "input = torch.randn(1, 3, 224, 224)\n",
    "\n",
    "ring_flops = FlopCountAnalysis(model, input)\n",
    "\n",
    "# convert to GFLOPs\n",
    "print(\"Ring Model GFLOPS: \", ring_flops.total() / 1e9)"
   ]
  },
  {
   "cell_type": "code",
   "execution_count": 9,
   "metadata": {},
   "outputs": [],
   "source": [
    "from models.universal_transformer import UiT, UiT_CONFIGS"
   ]
  },
  {
   "cell_type": "code",
   "execution_count": null,
   "metadata": {},
   "outputs": [],
   "source": [
    "UiT_CONFIGS['UiT-B_16']"
   ]
  },
  {
   "cell_type": "code",
   "execution_count": 11,
   "metadata": {},
   "outputs": [],
   "source": [
    "uit_model = UiT(UiT_CONFIGS['UiT-B_16'])"
   ]
  },
  {
   "cell_type": "code",
   "execution_count": null,
   "metadata": {},
   "outputs": [],
   "source": [
    "input = torch.randn(1, 3, 224, 224)\n",
    "\n",
    "uit_flops = FlopCountAnalysis(uit_model, input)\n",
    "uit_flops.total()\n",
    "\n",
    "# convert to GFLOPs\n",
    "print(\"UiT Model GFLOPS: \", uit_flops.total() / 1e9)"
   ]
  },
  {
   "cell_type": "code",
   "execution_count": 13,
   "metadata": {},
   "outputs": [],
   "source": [
    "from models.vanilla_transformer import VisionTransformer, ViT_CONFIGS"
   ]
  },
  {
   "cell_type": "code",
   "execution_count": null,
   "metadata": {},
   "outputs": [],
   "source": [
    "ViT_CONFIGS['ViT-B_16']"
   ]
  },
  {
   "cell_type": "code",
   "execution_count": 15,
   "metadata": {},
   "outputs": [],
   "source": [
    "vit_model = VisionTransformer(ViT_CONFIGS['ViT-B_16'])"
   ]
  },
  {
   "cell_type": "code",
   "execution_count": null,
   "metadata": {},
   "outputs": [],
   "source": [
    "input = torch.randn(1, 3, 224, 224)\n",
    "\n",
    "vit_flops = FlopCountAnalysis(vit_model, input)\n",
    "\n",
    "# convert to GFLOPs\n",
    "print(\"ViT Model GFLOPS: \", vit_flops.total() / 1e9)"
   ]
  },
  {
   "cell_type": "code",
   "execution_count": 19,
   "metadata": {},
   "outputs": [],
   "source": [
    "from models.one_wide_feed_forward import OWF, OWF_CONFIGS"
   ]
  },
  {
   "cell_type": "code",
   "execution_count": 20,
   "metadata": {},
   "outputs": [],
   "source": [
    "owf_model = OWF(OWF_CONFIGS['OWF-B_16'])"
   ]
  },
  {
   "cell_type": "code",
   "execution_count": null,
   "metadata": {},
   "outputs": [],
   "source": [
    "input = torch.randn(1, 3, 224, 224)\n",
    "\n",
    "owf_flops = FlopCountAnalysis(owf_model, input)\n",
    "\n",
    "# convert to GFLOPs\n",
    "print(\"OWF Model GFLOPS: \", owf_flops.total() / 1e9)"
   ]
  }
 ],
 "metadata": {
  "kernelspec": {
   "display_name": "Python 3 (ipykernel)",
   "language": "python",
   "name": "python3"
  },
  "language_info": {
   "codemirror_mode": {
    "name": "ipython",
    "version": 3
   },
   "file_extension": ".py",
   "mimetype": "text/x-python",
   "name": "python",
   "nbconvert_exporter": "python",
   "pygments_lexer": "ipython3",
   "version": "3.10.14"
  }
 },
 "nbformat": 4,
 "nbformat_minor": 2
}
